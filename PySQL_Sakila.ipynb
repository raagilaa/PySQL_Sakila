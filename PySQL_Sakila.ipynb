{
 "nbformat": 4,
 "nbformat_minor": 2,
 "metadata": {
  "language_info": {
   "name": "python",
   "codemirror_mode": {
    "name": "ipython",
    "version": 3
   },
   "version": "3.7.3-final"
  },
  "orig_nbformat": 2,
  "file_extension": ".py",
  "mimetype": "text/x-python",
  "name": "python",
  "npconvert_exporter": "python",
  "pygments_lexer": "ipython3",
  "version": 3,
  "kernelspec": {
   "name": "python37364bitfa84bdd40f374f4a998c62b999381033",
   "display_name": "Python 3.7.3 64-bit"
  }
 },
 "cells": [
  {
   "cell_type": "code",
   "execution_count": 14,
   "metadata": {},
   "outputs": [],
   "source": [
    "import mysql.connector\n",
    "import pandas as pd\n",
    "import datetime"
   ]
  },
  {
   "cell_type": "code",
   "execution_count": 15,
   "metadata": {},
   "outputs": [],
   "source": [
    "mydb = mysql.connector.connect(\n",
    "    host = \"localhost\",\n",
    "    user = \"root\",\n",
    "    passwd = \"Blueb@nd99\",\n",
    "    database = \"sakila\"\n",
    "\n",
    ")\n"
   ]
  },
  {
   "cell_type": "code",
   "execution_count": null,
   "metadata": {},
   "outputs": [],
   "source": [
    "#======================= NO 1"
   ]
  },
  {
   "cell_type": "code",
   "execution_count": 16,
   "metadata": {},
   "outputs": [
    {
     "data": {
      "text/html": "<div>\n<style scoped>\n    .dataframe tbody tr th:only-of-type {\n        vertical-align: middle;\n    }\n\n    .dataframe tbody tr th {\n        vertical-align: top;\n    }\n\n    .dataframe thead th {\n        text-align: right;\n    }\n</style>\n<table border=\"1\" class=\"dataframe\">\n  <thead>\n    <tr style=\"text-align: right;\">\n      <th></th>\n      <th>Title</th>\n      <th>Category</th>\n      <th>Length</th>\n    </tr>\n  </thead>\n  <tbody>\n    <tr>\n      <th>0</th>\n      <td>DOWNHILL ENOUGH</td>\n      <td>Comedy</td>\n      <td>47</td>\n    </tr>\n    <tr>\n      <th>1</th>\n      <td>PARADISE SABRINA</td>\n      <td>Comedy</td>\n      <td>48</td>\n    </tr>\n    <tr>\n      <th>2</th>\n      <td>HEAVEN FREEDOM</td>\n      <td>Comedy</td>\n      <td>48</td>\n    </tr>\n    <tr>\n      <th>3</th>\n      <td>HURRICANE AFFAIR</td>\n      <td>Comedy</td>\n      <td>49</td>\n    </tr>\n    <tr>\n      <th>4</th>\n      <td>LION UNCUT</td>\n      <td>Comedy</td>\n      <td>50</td>\n    </tr>\n    <tr>\n      <th>5</th>\n      <td>ZORRO ARK</td>\n      <td>Comedy</td>\n      <td>50</td>\n    </tr>\n    <tr>\n      <th>6</th>\n      <td>CLOSER BANG</td>\n      <td>Comedy</td>\n      <td>58</td>\n    </tr>\n    <tr>\n      <th>7</th>\n      <td>AIRPLANE SIERRA</td>\n      <td>Comedy</td>\n      <td>62</td>\n    </tr>\n    <tr>\n      <th>8</th>\n      <td>LONELY ELEPHANT</td>\n      <td>Comedy</td>\n      <td>67</td>\n    </tr>\n    <tr>\n      <th>9</th>\n      <td>DOOM DANCING</td>\n      <td>Comedy</td>\n      <td>68</td>\n    </tr>\n  </tbody>\n</table>\n</div>",
      "text/plain": "              Title Category  Length\n0   DOWNHILL ENOUGH   Comedy      47\n1  PARADISE SABRINA   Comedy      48\n2    HEAVEN FREEDOM   Comedy      48\n3  HURRICANE AFFAIR   Comedy      49\n4        LION UNCUT   Comedy      50\n5         ZORRO ARK   Comedy      50\n6       CLOSER BANG   Comedy      58\n7   AIRPLANE SIERRA   Comedy      62\n8   LONELY ELEPHANT   Comedy      67\n9      DOOM DANCING   Comedy      68"
     },
     "execution_count": 16,
     "metadata": {},
     "output_type": "execute_result"
    }
   ],
   "source": [
    "mycursor = mydb.cursor()\n",
    "query = \"select film.title As Title ,category.name As Category ,min(film.length) As Length  from film join film_category using(film_id) join category using (category_id) where category.name = 'Comedy' group by Title Order by Length limit 10\"\n",
    "\n",
    "mycursor.execute(query)\n",
    "myresult = mycursor.fetchall()\n",
    "columns = mycursor.column_names\n",
    "df = pd.DataFrame(myresult, columns=columns)\n",
    "df\n",
    "\n",
    "\n"
   ]
  },
  {
   "cell_type": "code",
   "execution_count": null,
   "metadata": {},
   "outputs": [],
   "source": [
    "#===========================  NO 2"
   ]
  },
  {
   "cell_type": "code",
   "execution_count": 18,
   "metadata": {},
   "outputs": [
    {
     "data": {
      "text/html": "<div>\n<style scoped>\n    .dataframe tbody tr th:only-of-type {\n        vertical-align: middle;\n    }\n\n    .dataframe tbody tr th {\n        vertical-align: top;\n    }\n\n    .dataframe thead th {\n        text-align: right;\n    }\n</style>\n<table border=\"1\" class=\"dataframe\">\n  <thead>\n    <tr style=\"text-align: right;\">\n      <th></th>\n      <th>Category</th>\n      <th>jumlahMovie</th>\n      <th>rataHargaSewa</th>\n    </tr>\n  </thead>\n  <tbody>\n    <tr>\n      <th>0</th>\n      <td>Sports</td>\n      <td>73</td>\n      <td>4.507388</td>\n    </tr>\n    <tr>\n      <th>1</th>\n      <td>Family</td>\n      <td>67</td>\n      <td>3.855903</td>\n    </tr>\n    <tr>\n      <th>2</th>\n      <td>Foreign</td>\n      <td>67</td>\n      <td>4.134240</td>\n    </tr>\n    <tr>\n      <th>3</th>\n      <td>Animation</td>\n      <td>64</td>\n      <td>3.993396</td>\n    </tr>\n    <tr>\n      <th>4</th>\n      <td>Documentary</td>\n      <td>63</td>\n      <td>4.016686</td>\n    </tr>\n    <tr>\n      <th>5</th>\n      <td>Action</td>\n      <td>61</td>\n      <td>3.935117</td>\n    </tr>\n    <tr>\n      <th>6</th>\n      <td>Drama</td>\n      <td>61</td>\n      <td>4.327726</td>\n    </tr>\n    <tr>\n      <th>7</th>\n      <td>New</td>\n      <td>60</td>\n      <td>4.629383</td>\n    </tr>\n    <tr>\n      <th>8</th>\n      <td>Sci-Fi</td>\n      <td>59</td>\n      <td>4.320599</td>\n    </tr>\n    <tr>\n      <th>9</th>\n      <td>Children</td>\n      <td>58</td>\n      <td>3.868307</td>\n    </tr>\n    <tr>\n      <th>10</th>\n      <td>Games</td>\n      <td>58</td>\n      <td>4.418297</td>\n    </tr>\n    <tr>\n      <th>11</th>\n      <td>Comedy</td>\n      <td>56</td>\n      <td>4.658427</td>\n    </tr>\n    <tr>\n      <th>12</th>\n      <td>Classics</td>\n      <td>54</td>\n      <td>3.876028</td>\n    </tr>\n    <tr>\n      <th>13</th>\n      <td>Horror</td>\n      <td>53</td>\n      <td>4.400165</td>\n    </tr>\n    <tr>\n      <th>14</th>\n      <td>Travel</td>\n      <td>53</td>\n      <td>4.240908</td>\n    </tr>\n    <tr>\n      <th>15</th>\n      <td>Music</td>\n      <td>51</td>\n      <td>4.117735</td>\n    </tr>\n  </tbody>\n</table>\n</div>",
      "text/plain": "       Category  jumlahMovie rataHargaSewa\n0        Sports           73      4.507388\n1        Family           67      3.855903\n2       Foreign           67      4.134240\n3     Animation           64      3.993396\n4   Documentary           63      4.016686\n5        Action           61      3.935117\n6         Drama           61      4.327726\n7           New           60      4.629383\n8        Sci-Fi           59      4.320599\n9      Children           58      3.868307\n10        Games           58      4.418297\n11       Comedy           56      4.658427\n12     Classics           54      3.876028\n13       Horror           53      4.400165\n14       Travel           53      4.240908\n15        Music           51      4.117735"
     },
     "execution_count": 18,
     "metadata": {},
     "output_type": "execute_result"
    }
   ],
   "source": [
    "mycursor = mydb.cursor()\n",
    "query = \"SELECT category.name as Category, COUNT(Distinct film.title) as jumlahMovie, AVG(payment.amount) as rataHargaSewa FROM category join film_category using(category_id) join film using (film_id) join inventory using (film_id) join rental using (inventory_id) join payment using (rental_id) group by Category Order by jumlahMovie desc\"\n",
    "\n",
    "mycursor.execute(query)\n",
    "myresult = mycursor.fetchall()\n",
    "columns = mycursor.column_names\n",
    "df = pd.DataFrame(myresult, columns=columns)\n",
    "df"
   ]
  },
  {
   "cell_type": "code",
   "execution_count": null,
   "metadata": {},
   "outputs": [],
   "source": [
    "#============================= NO 3"
   ]
  },
  {
   "cell_type": "code",
   "execution_count": 10,
   "metadata": {},
   "outputs": [
    {
     "data": {
      "text/html": "<div>\n<style scoped>\n    .dataframe tbody tr th:only-of-type {\n        vertical-align: middle;\n    }\n\n    .dataframe tbody tr th {\n        vertical-align: top;\n    }\n\n    .dataframe thead th {\n        text-align: right;\n    }\n</style>\n<table border=\"1\" class=\"dataframe\">\n  <thead>\n    <tr style=\"text-align: right;\">\n      <th></th>\n      <th>Actor_id</th>\n      <th>first_Name</th>\n      <th>Last_name</th>\n      <th>JumlahMovie</th>\n    </tr>\n  </thead>\n  <tbody>\n    <tr>\n      <th>0</th>\n      <td>107</td>\n      <td>GINA</td>\n      <td>DEGENERES</td>\n      <td>42</td>\n    </tr>\n    <tr>\n      <th>1</th>\n      <td>102</td>\n      <td>WALTER</td>\n      <td>TORN</td>\n      <td>41</td>\n    </tr>\n    <tr>\n      <th>2</th>\n      <td>198</td>\n      <td>MARY</td>\n      <td>KEITEL</td>\n      <td>40</td>\n    </tr>\n    <tr>\n      <th>3</th>\n      <td>181</td>\n      <td>MATTHEW</td>\n      <td>CARREY</td>\n      <td>39</td>\n    </tr>\n    <tr>\n      <th>4</th>\n      <td>23</td>\n      <td>SANDRA</td>\n      <td>KILMER</td>\n      <td>37</td>\n    </tr>\n    <tr>\n      <th>5</th>\n      <td>81</td>\n      <td>SCARLETT</td>\n      <td>DAMON</td>\n      <td>36</td>\n    </tr>\n    <tr>\n      <th>6</th>\n      <td>37</td>\n      <td>VAL</td>\n      <td>BOLGER</td>\n      <td>35</td>\n    </tr>\n    <tr>\n      <th>7</th>\n      <td>158</td>\n      <td>VIVIEN</td>\n      <td>BASINGER</td>\n      <td>35</td>\n    </tr>\n    <tr>\n      <th>8</th>\n      <td>106</td>\n      <td>GROUCHO</td>\n      <td>DUNST</td>\n      <td>35</td>\n    </tr>\n    <tr>\n      <th>9</th>\n      <td>13</td>\n      <td>UMA</td>\n      <td>WOOD</td>\n      <td>35</td>\n    </tr>\n  </tbody>\n</table>\n</div>",
      "text/plain": "   Actor_id first_Name  Last_name  JumlahMovie\n0       107       GINA  DEGENERES           42\n1       102     WALTER       TORN           41\n2       198       MARY     KEITEL           40\n3       181    MATTHEW     CARREY           39\n4        23     SANDRA     KILMER           37\n5        81   SCARLETT      DAMON           36\n6        37        VAL     BOLGER           35\n7       158     VIVIEN   BASINGER           35\n8       106    GROUCHO      DUNST           35\n9        13        UMA       WOOD           35"
     },
     "execution_count": 10,
     "metadata": {},
     "output_type": "execute_result"
    }
   ],
   "source": [
    "mycursor = mydb.cursor()\n",
    "query = \"select actor.actor_id As Actor_id, actor.first_name As first_Name, actor.last_name As Last_name, count(film.title) As JumlahMovie from actor join film_actor using(actor_id) join film using (film_id) group by Actor_id order by JumlahMovie desc limit 10\"\n",
    "\n",
    "mycursor.execute(query)\n",
    "myresult = mycursor.fetchall()\n",
    "columns = mycursor.column_names\n",
    "df = pd.DataFrame(myresult, columns=columns)\n",
    "df"
   ]
  },
  {
   "cell_type": "code",
   "execution_count": null,
   "metadata": {},
   "outputs": [],
   "source": [
    "#==================================== NO 4"
   ]
  },
  {
   "cell_type": "code",
   "execution_count": 19,
   "metadata": {},
   "outputs": [
    {
     "data": {
      "text/html": "<div>\n<style scoped>\n    .dataframe tbody tr th:only-of-type {\n        vertical-align: middle;\n    }\n\n    .dataframe tbody tr th {\n        vertical-align: top;\n    }\n\n    .dataframe thead th {\n        text-align: right;\n    }\n</style>\n<table border=\"1\" class=\"dataframe\">\n  <thead>\n    <tr style=\"text-align: right;\">\n      <th></th>\n      <th>category</th>\n      <th>jumlahmovies</th>\n    </tr>\n  </thead>\n  <tbody>\n    <tr>\n      <th>0</th>\n      <td>Sci-Fi</td>\n      <td>7</td>\n    </tr>\n    <tr>\n      <th>1</th>\n      <td>Music</td>\n      <td>4</td>\n    </tr>\n    <tr>\n      <th>2</th>\n      <td>Animation</td>\n      <td>4</td>\n    </tr>\n    <tr>\n      <th>3</th>\n      <td>Family</td>\n      <td>4</td>\n    </tr>\n    <tr>\n      <th>4</th>\n      <td>Documentary</td>\n      <td>3</td>\n    </tr>\n    <tr>\n      <th>5</th>\n      <td>Action</td>\n      <td>3</td>\n    </tr>\n    <tr>\n      <th>6</th>\n      <td>Comedy</td>\n      <td>3</td>\n    </tr>\n    <tr>\n      <th>7</th>\n      <td>Foreign</td>\n      <td>2</td>\n    </tr>\n    <tr>\n      <th>8</th>\n      <td>Drama</td>\n      <td>2</td>\n    </tr>\n    <tr>\n      <th>9</th>\n      <td>Children</td>\n      <td>2</td>\n    </tr>\n    <tr>\n      <th>10</th>\n      <td>Classics</td>\n      <td>2</td>\n    </tr>\n    <tr>\n      <th>11</th>\n      <td>Sports</td>\n      <td>2</td>\n    </tr>\n    <tr>\n      <th>12</th>\n      <td>New</td>\n      <td>1</td>\n    </tr>\n    <tr>\n      <th>13</th>\n      <td>Horror</td>\n      <td>1</td>\n    </tr>\n    <tr>\n      <th>14</th>\n      <td>Games</td>\n      <td>1</td>\n    </tr>\n    <tr>\n      <th>15</th>\n      <td>Travel</td>\n      <td>1</td>\n    </tr>\n  </tbody>\n</table>\n</div>",
      "text/plain": "       category  jumlahmovies\n0        Sci-Fi             7\n1         Music             4\n2     Animation             4\n3        Family             4\n4   Documentary             3\n5        Action             3\n6        Comedy             3\n7       Foreign             2\n8         Drama             2\n9      Children             2\n10     Classics             2\n11       Sports             2\n12          New             1\n13       Horror             1\n14        Games             1\n15       Travel             1"
     },
     "execution_count": 19,
     "metadata": {},
     "output_type": "execute_result"
    }
   ],
   "source": [
    "mycursor = mydb.cursor()\n",
    "query = \"select category.name As category, count(film.title) As jumlahmovies from category join film_category using (category_id) join film using(film_id) join film_actor using (film_id) join actor using (actor_id) where actor_id=107  group by category order by jumlahmovies desc;\"\n",
    "\n",
    "mycursor.execute(query)\n",
    "myresult = mycursor.fetchall()\n",
    "columns = mycursor.column_names\n",
    "df = pd.DataFrame(myresult, columns=columns)\n",
    "df"
   ]
  },
  {
   "cell_type": "code",
   "execution_count": null,
   "metadata": {},
   "outputs": [],
   "source": [
    "#==================================== NO 5"
   ]
  },
  {
   "cell_type": "code",
   "execution_count": 20,
   "metadata": {},
   "outputs": [
    {
     "data": {
      "text/html": "<div>\n<style scoped>\n    .dataframe tbody tr th:only-of-type {\n        vertical-align: middle;\n    }\n\n    .dataframe tbody tr th {\n        vertical-align: top;\n    }\n\n    .dataframe thead th {\n        text-align: right;\n    }\n</style>\n<table border=\"1\" class=\"dataframe\">\n  <thead>\n    <tr style=\"text-align: right;\">\n      <th></th>\n      <th>Title</th>\n      <th>category</th>\n    </tr>\n  </thead>\n  <tbody>\n    <tr>\n      <th>0</th>\n      <td>CHARIOTS CONSPIRACY</td>\n      <td>Sci-Fi</td>\n    </tr>\n    <tr>\n      <th>1</th>\n      <td>COLDBLOODED DARLING</td>\n      <td>Sci-Fi</td>\n    </tr>\n    <tr>\n      <th>2</th>\n      <td>FRISCO FORREST</td>\n      <td>Sci-Fi</td>\n    </tr>\n    <tr>\n      <th>3</th>\n      <td>GOODFELLAS SALUTE</td>\n      <td>Sci-Fi</td>\n    </tr>\n    <tr>\n      <th>4</th>\n      <td>LICENSE WEEKEND</td>\n      <td>Sci-Fi</td>\n    </tr>\n    <tr>\n      <th>5</th>\n      <td>OPEN AFRICAN</td>\n      <td>Sci-Fi</td>\n    </tr>\n    <tr>\n      <th>6</th>\n      <td>SPIRITED CASUALTIES</td>\n      <td>Sci-Fi</td>\n    </tr>\n  </tbody>\n</table>\n</div>",
      "text/plain": "                 Title category\n0  CHARIOTS CONSPIRACY   Sci-Fi\n1  COLDBLOODED DARLING   Sci-Fi\n2       FRISCO FORREST   Sci-Fi\n3    GOODFELLAS SALUTE   Sci-Fi\n4      LICENSE WEEKEND   Sci-Fi\n5         OPEN AFRICAN   Sci-Fi\n6  SPIRITED CASUALTIES   Sci-Fi"
     },
     "execution_count": 20,
     "metadata": {},
     "output_type": "execute_result"
    }
   ],
   "source": [
    "mycursor = mydb.cursor()\n",
    "query = \"select film.title As Title, category.name As category from category join film_category using (category_id) join film using(film_id) join film_actor using (film_id) join actor using (actor_id) where actor_id=107 and  category_id=14\"\n",
    "\n",
    "mycursor.execute(query)\n",
    "myresult = mycursor.fetchall()\n",
    "columns = mycursor.column_names\n",
    "df = pd.DataFrame(myresult, columns=columns)\n",
    "df"
   ]
  },
  {
   "cell_type": "code",
   "execution_count": null,
   "metadata": {},
   "outputs": [],
   "source": []
  },
  {
   "cell_type": "code",
   "execution_count": null,
   "metadata": {},
   "outputs": [],
   "source": [
    "select film.title As Title, category.name As category from category join film_category using (category_id) join film using(film_id) join film_actor using (film_id) join actor using (actor_id) where actor_id=107 and  category_id=14"
   ]
  }
 ]
}